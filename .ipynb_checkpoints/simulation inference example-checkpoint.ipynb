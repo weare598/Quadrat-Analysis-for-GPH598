{
 "metadata": {
  "name": "",
  "signature": "sha256:909c2d7469acfed4d7e197fbbf91ce16382e9c9ae6d949b1461b7520ac615739"
 },
 "nbformat": 3,
 "nbformat_minor": 0,
 "worksheets": [
  {
   "cells": [
    {
     "cell_type": "code",
     "collapsed": false,
     "input": [
      "%matplotlib inline\n",
      "import quadrats_new as qd\n",
      "import simulated_inference as si\n",
      "import numpy as np"
     ],
     "language": "python",
     "metadata": {},
     "outputs": [],
     "prompt_number": 12
    },
    {
     "cell_type": "code",
     "collapsed": false,
     "input": [
      "# generate 1000 random points with the default limitation of x[0, 100], y[0, 100]\n",
      "list_points_1 = qd.generate_points(1000)"
     ],
     "language": "python",
     "metadata": {},
     "outputs": [],
     "prompt_number": 18
    },
    {
     "cell_type": "markdown",
     "metadata": {},
     "source": [
      "##simulated testing 1\n",
      "* random points patterns apply with poisson csr\n",
      "* grid structure: hexagon\n",
      "* Number of simulated point patterns: 99"
     ]
    },
    {
     "cell_type": "code",
     "collapsed": false,
     "input": [
      "si.quadrats_simulate(list_points_1,simulate=\"poisson\",t=\"hexagon\")"
     ],
     "language": "python",
     "metadata": {},
     "outputs": [
      {
       "metadata": {},
       "output_type": "pyout",
       "prompt_number": 36,
       "text": [
        "0.65"
       ]
      }
     ],
     "prompt_number": 36
    },
    {
     "cell_type": "markdown",
     "metadata": {},
     "source": [
      "##simulated testing 2\n",
      "* random points patterns apply with uniform csr\n",
      "* grid structure: rectangular\n",
      "* Number of simulated point patterns: 999"
     ]
    },
    {
     "cell_type": "code",
     "collapsed": false,
     "input": [
      "si.quadrats_simulate(list_points_1,simulate=\"uniform\",t=\"rectangular\",nsim = 999)"
     ],
     "language": "python",
     "metadata": {},
     "outputs": [
      {
       "metadata": {},
       "output_type": "pyout",
       "prompt_number": 23,
       "text": [
        "0.86"
       ]
      }
     ],
     "prompt_number": 23
    },
    {
     "cell_type": "code",
     "collapsed": false,
     "input": [],
     "language": "python",
     "metadata": {},
     "outputs": []
    }
   ],
   "metadata": {}
  }
 ]
}