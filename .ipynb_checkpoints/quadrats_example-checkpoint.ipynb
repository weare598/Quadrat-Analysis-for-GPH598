{
 "metadata": {
  "name": "",
  "signature": "sha256:6b9468d662701fa3739b96cd3fc9b0072004bbc14d76a6f95febc57ed3674599"
 },
 "nbformat": 3,
 "nbformat_minor": 0,
 "worksheets": [
  {
   "cells": [
    {
     "cell_type": "code",
     "collapsed": false,
     "input": [
      "%matplotlib inline\n",
      "import quadrats_new as qd"
     ],
     "language": "python",
     "metadata": {},
     "outputs": []
    },
    {
     "cell_type": "code",
     "collapsed": false,
     "input": [
      "# generate 5 random points with the default limitation of x[0, 100], y[0, 100]\n",
      "list_points_1 = qd.generate_points(5)\n",
      "list_points_1"
     ],
     "language": "python",
     "metadata": {},
     "outputs": []
    },
    {
     "cell_type": "code",
     "collapsed": false,
     "input": [
      "# generate 5 random points with the customized limitation of x[-100, 100], y[200, 300]\n",
      "list_points_2 = qd.generate_points(5,[-100,100,200,300])\n",
      "list_points_2"
     ],
     "language": "python",
     "metadata": {},
     "outputs": []
    },
    {
     "cell_type": "code",
     "collapsed": false,
     "input": [
      "# read point data from csv file\n",
      "list_points_3 = qd.read_points(\"poi_beijing_bank_id_lon_lat.csv\", 1, 2, split_char=',', begin_form_line=0)\n",
      "list_points_3\n",
      "\n",
      "mr3 = qd.Manager_rectangle(list_points_3,  count_column= 30, count_row= 30)\n",
      "\n",
      "# import mpld3\n",
      "# fig = mr3.plot(plot_use_mpld3 = True)\n",
      "# mpld3.display(fig)"
     ],
     "language": "python",
     "metadata": {},
     "outputs": []
    },
    {
     "cell_type": "code",
     "collapsed": false,
     "input": [
      "# create a rectangle management class, using params of\n",
      "# 1. point_list\n",
      "# 2. rectangle cell width default as 5.0\n",
      "# 3. rectangle cell height default as 5.0\n",
      "mr1 = qd.Manager_rectangle(qd.generate_points(100), rectangle_width = 5.5, rectangle_height = 6.7)\n",
      "\n",
      "#you can also create a rectangle management class, using params as follows\n",
      "# 1. point_list\n",
      "# 2. column number of final result default as -1\n",
      "# 3. row number of final result default as -1\n",
      "# then, you should specify rectangle width/height or count column/row\n",
      "mr2 = qd.Manager_rectangle(qd.generate_points(100),  count_column= 11, count_row= 13)"
     ],
     "language": "python",
     "metadata": {},
     "outputs": []
    },
    {
     "cell_type": "code",
     "collapsed": false,
     "input": [
      "# count point number of every cell\n",
      "# return a dict with the keys as rectangle id and values as point_number in every rectangle\n",
      "dict_id_count = mr1.point_location_sta()\n",
      "dict_id_count"
     ],
     "language": "python",
     "metadata": {},
     "outputs": []
    },
    {
     "cell_type": "code",
     "collapsed": false,
     "input": [
      "# plot points, rectangles and statistics, params as follows\n",
      "# show_sta_label: whether to show every cell's points number (default as True)\n",
      "# point_size: point size of the grouph (default as 3)\n",
      "# plot_use_mpld3: mpld3 is an intractive graph plotting method and can be embedded in ipython note book. \n",
      "#    We defaultly use matplotlib for plotting, which will popup a new window.\n",
      "#    But if you are using ipython notebook, we suggest you to use the mpld3 for plotting\n",
      "mr1.plot(show_sta_label=True, point_size=3, plot_use_mpld3=False)  # plot a static graph as default\n",
      "\n",
      "# plot an intractive graph using mpld3\n",
      "import mpld3\n",
      "fig = mr1.plot(plot_use_mpld3 = True)\n",
      "mpld3.display(fig)"
     ],
     "language": "python",
     "metadata": {},
     "outputs": []
    },
    {
     "cell_type": "code",
     "collapsed": false,
     "input": [
      "# create a hexagon management class, using params of\n",
      "# 1. point_list\n",
      "# 2. hexagon side length\n",
      "mh = qd.Manager_hexagon(qd.generate_points(400), 6.4)\n",
      "\n",
      "# count point number of every hexagon\n",
      "# return a dict with the keys as hexagon id and values as point_number in every hexagon\n",
      "dict_id_count = mh.point_location_sta()\n",
      "dict_id_count"
     ],
     "language": "python",
     "metadata": {},
     "outputs": []
    },
    {
     "cell_type": "code",
     "collapsed": false,
     "input": [
      "# plot points, hexagons and statistics, params as follows\n",
      "# show_sta_label: whether to show every cell's points number (default as True)\n",
      "# point_size: point size of the grouph (default as 3)\n",
      "# plot_use_mpld3: mpld3 is an intractive graph plotting method and can be embedded in ipython note book. \n",
      "#    We defaultly use matplotlib for plotting, which will popup a new window.\n",
      "#    But if you are using ipython notebook, we suggest you to use the mpld3 for plotting\n",
      "mh.plot(show_sta_label=True, point_size=3, plot_use_mpld3=False)  # plot a static graph as default\n",
      "\n",
      "# plot an intractive graph using mpld3\n",
      "import mpld3\n",
      "fig = mh.plot(plot_use_mpld3 = True)\n",
      "mpld3.display(fig)"
     ],
     "language": "python",
     "metadata": {},
     "outputs": []
    }
   ],
   "metadata": {}
  }
 ]
}