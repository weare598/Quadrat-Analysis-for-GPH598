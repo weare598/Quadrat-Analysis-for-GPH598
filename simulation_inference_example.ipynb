{
 "metadata": {
  "name": "",
  "signature": "sha256:243271bc42b8f89124d71a35185eb56742dd59c009e25ec2a2a6cdc35affa9a2"
 },
 "nbformat": 3,
 "nbformat_minor": 0,
 "worksheets": [
  {
   "cells": [
    {
     "cell_type": "code",
     "collapsed": false,
     "input": [
      "%matplotlib inline\n",
      "import quadrats_new as qd\n",
      "import simulated_inference as si\n",
      "import numpy as np"
     ],
     "language": "python",
     "metadata": {},
     "outputs": [],
     "prompt_number": 1
    },
    {
     "cell_type": "code",
     "collapsed": false,
     "input": [
      "help(si.quadrats_simulate)"
     ],
     "language": "python",
     "metadata": {},
     "outputs": [
      {
       "output_type": "stream",
       "stream": "stdout",
       "text": [
        "Help on function quadrats_simulate in module simulated_inference:\n",
        "\n",
        "quadrats_simulate(points, x_bound=[0, 100], y_bound=[0, 100], simulate='uniform', nsim=99, nx=20, ny=20, lh=10, t='rectangular')\n",
        "    This function calculates p-value of obeserved point patterns using monte carlo testing in which simulated point patterns\n",
        "    apply with csr (uniform or poisson)\n",
        "    \n",
        "    Parameters\n",
        "    ----------\n",
        "    points  : n*2 list\n",
        "              Coordinates of obeserved point patterns. (n points) \n",
        "    x_bound : list\n",
        "              Minimum and maximum x coordinates of study area\n",
        "    y_bound : list\n",
        "              Minimum and maximum y coordinates of study area    \n",
        "    simulate: string\n",
        "              Specifies how to generate the simulated point patterns. Can be \"uniform\" or \"poisson\".\n",
        "    nsim    : integer\n",
        "              Number of simulated point patterns to be generated.\n",
        "    nx      : integer\n",
        "              Numbers of rectangular quadrats in the x direction. (rectangular)\n",
        "    ny      : integer\n",
        "              Numbers of rectangular quadrats in the y direction. (rectangular)\n",
        "    lh      : integer\n",
        "              hexagon length (hexagon) - incompatible with nx & ny\n",
        "    t       : string\n",
        "              grid structure. can be \"rectangular\" or \"hexagon\"\n",
        "              \n",
        "    Returns\n",
        "    -------\n",
        "    p       : float\n",
        "              P value.\n",
        "\n"
       ]
      }
     ],
     "prompt_number": 2
    },
    {
     "cell_type": "code",
     "collapsed": false,
     "input": [
      "# generate 1000 random points with the default limitation of x[0, 100], y[0, 100]\n",
      "list_points_1 = qd.generate_points(1000)"
     ],
     "language": "python",
     "metadata": {},
     "outputs": [],
     "prompt_number": 3
    },
    {
     "cell_type": "markdown",
     "metadata": {},
     "source": [
      "##Monte Carlo testing 1\n",
      "* random points patterns apply with poisson & uniform csr\n",
      "* grid structure: hexagon\n",
      "* Number of simulated point patterns: 99"
     ]
    },
    {
     "cell_type": "code",
     "collapsed": false,
     "input": [
      "si.quadrats_simulate(list_points_1,simulate=\"poisson\",t=\"hexagon\")"
     ],
     "language": "python",
     "metadata": {},
     "outputs": [
      {
       "metadata": {},
       "output_type": "pyout",
       "prompt_number": 4,
       "text": [
        "0.39"
       ]
      }
     ],
     "prompt_number": 4
    },
    {
     "cell_type": "code",
     "collapsed": false,
     "input": [
      "si.quadrats_simulate(list_points_1,simulate=\"uniform\",t=\"hexagon\")"
     ],
     "language": "python",
     "metadata": {},
     "outputs": [
      {
       "metadata": {},
       "output_type": "pyout",
       "prompt_number": 5,
       "text": [
        "0.37"
       ]
      }
     ],
     "prompt_number": 5
    },
    {
     "cell_type": "markdown",
     "metadata": {},
     "source": [
      "##Monte Carlo testing 2\n",
      "* random points patterns apply with uniform & poisson csr\n",
      "* grid structure: rectangular\n",
      "* Number of simulated point patterns: 999"
     ]
    },
    {
     "cell_type": "code",
     "collapsed": false,
     "input": [
      "si.quadrats_simulate(list_points_1,simulate=\"uniform\",t=\"rectangular\",nsim = 999,nx = 30, ny =30)"
     ],
     "language": "python",
     "metadata": {},
     "outputs": [
      {
       "metadata": {},
       "output_type": "pyout",
       "prompt_number": 6,
       "text": [
        "0.505"
       ]
      }
     ],
     "prompt_number": 6
    },
    {
     "cell_type": "code",
     "collapsed": false,
     "input": [
      "si.quadrats_simulate(list_points_1,simulate=\"poisson\",t=\"rectangular\",nsim = 999,nx = 30, ny =30)"
     ],
     "language": "python",
     "metadata": {},
     "outputs": [
      {
       "metadata": {},
       "output_type": "pyout",
       "prompt_number": 7,
       "text": [
        "0.5"
       ]
      }
     ],
     "prompt_number": 7
    },
    {
     "cell_type": "markdown",
     "metadata": {},
     "source": [
      "##Monte Carlo testing 3\n",
      "* beijing bank POI data\n",
      "* random points patterns apply with poisson & uniform csr\n",
      "* grid structure: rectangular\n",
      "* Number of simulated point patterns: 99"
     ]
    },
    {
     "cell_type": "code",
     "collapsed": false,
     "input": [
      "list_points_3 = qd.read_points(\"poi_beijing_bank_id_lon_lat.csv\", 1, 2, split_char=',', begin_form_line=0)\n",
      "mr3 = qd.Manager_rectangle(list_points_3)             "
     ],
     "language": "python",
     "metadata": {},
     "outputs": [],
     "prompt_number": 8
    },
    {
     "cell_type": "code",
     "collapsed": false,
     "input": [
      "si.quadrats_simulate(list_points_3,simulate=\"uniform\",t=\"rectangular\",\n",
      "                     nsim = 99,nx = 100, ny =100,\n",
      "                     x_bound=[mr3.mbr.x_min,mr3.mbr.x_max],y_bound=[mr3.mbr.y_min,mr3.mbr.y_max]) "
     ],
     "language": "python",
     "metadata": {},
     "outputs": [
      {
       "metadata": {},
       "output_type": "pyout",
       "prompt_number": 9,
       "text": [
        "0.01"
       ]
      }
     ],
     "prompt_number": 9
    },
    {
     "cell_type": "code",
     "collapsed": false,
     "input": [
      "si.quadrats_simulate(list_points_3,simulate=\"poisson\",t=\"rectangular\",\n",
      "                     nsim = 99,nx = 100, ny =100,\n",
      "                     x_bound=[mr3.mbr.x_min,mr3.mbr.x_max],y_bound=[mr3.mbr.y_min,mr3.mbr.y_max]) "
     ],
     "language": "python",
     "metadata": {},
     "outputs": [
      {
       "metadata": {},
       "output_type": "pyout",
       "prompt_number": 10,
       "text": [
        "0.01"
       ]
      }
     ],
     "prompt_number": 10
    },
    {
     "cell_type": "code",
     "collapsed": false,
     "input": [
      "x = [1,2,3]"
     ],
     "language": "python",
     "metadata": {},
     "outputs": [],
     "prompt_number": 13
    },
    {
     "cell_type": "code",
     "collapsed": false,
     "input": [
      "x= np.arange(3)"
     ],
     "language": "python",
     "metadata": {},
     "outputs": [],
     "prompt_number": 19
    },
    {
     "cell_type": "code",
     "collapsed": false,
     "input": [
      "np.random.shuffle(x)"
     ],
     "language": "python",
     "metadata": {},
     "outputs": [],
     "prompt_number": 20
    },
    {
     "cell_type": "code",
     "collapsed": false,
     "input": [
      "x"
     ],
     "language": "python",
     "metadata": {},
     "outputs": [
      {
       "metadata": {},
       "output_type": "pyout",
       "prompt_number": 21,
       "text": [
        "array([2, 1, 0])"
       ]
      }
     ],
     "prompt_number": 21
    },
    {
     "cell_type": "code",
     "collapsed": false,
     "input": [],
     "language": "python",
     "metadata": {},
     "outputs": []
    }
   ],
   "metadata": {}
  }
 ]
}