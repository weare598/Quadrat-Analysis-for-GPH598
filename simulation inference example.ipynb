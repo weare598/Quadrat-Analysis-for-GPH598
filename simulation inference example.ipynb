{
 "metadata": {
  "name": "",
  "signature": "sha256:4670af477601c43c415f4cf902592ec43ae1f422d2679eb7f76129307b111b63"
 },
 "nbformat": 3,
 "nbformat_minor": 0,
 "worksheets": [
  {
   "cells": [
    {
     "cell_type": "code",
     "collapsed": false,
     "input": [
      "%matplotlib inline\n",
      "import quadrats_new as qd\n",
      "import simulated_inference as si"
     ],
     "language": "python",
     "metadata": {},
     "outputs": []
    },
    {
     "cell_type": "code",
     "collapsed": false,
     "input": [
      "# generate 1000 random points with the default limitation of x[0, 100], y[0, 100]\n",
      "list_points_1 = qd.generate_points(1000)"
     ],
     "language": "python",
     "metadata": {},
     "outputs": []
    },
    {
     "cell_type": "code",
     "collapsed": false,
     "input": [
      "# read in real data points : all bank branchs of Beijing\n",
      "list_points_2 = qd.read_points(\"poi_beijing_bank_id_lon_lat.csv\", 1, 2, split_char=',', begin_form_line=0)\n",
      "\n",
      "# map visualizing\n",
      "from IPython.display import IFrame\n",
      "IFrame('bank_map.html', width = \"100%\", height = 800)"
     ],
     "language": "python",
     "metadata": {},
     "outputs": []
    },
    {
     "cell_type": "markdown",
     "metadata": {},
     "source": [
      "##simulated testing 1\n",
      "* random points patterns apply with poisson csr\n",
      "* grid structure: hexagon\n",
      "* Number of simulated point patterns: 99"
     ]
    },
    {
     "cell_type": "code",
     "collapsed": false,
     "input": [
      "si.quadrats_simulate(list_points_1,simulate=\"poisson\",t=\"hexagon\")"
     ],
     "language": "python",
     "metadata": {},
     "outputs": []
    },
    {
     "cell_type": "code",
     "collapsed": false,
     "input": [
      "# 0.009 degree = 1km\n",
      "mh = qd.Manager_hexagon(list_points_2, 0.09)\n",
      "print mh.mbr.x_min, mh.mbr.x_max,mh.mbr.y_min, mh.mbr.y_max\n",
      "print si.quadrats_simulate(list_points_2, x_bound=[mh.mbr.x_min, mh.mbr.x_max], y_bound=[mh.mbr.y_min, mh.mbr.y_max], \n",
      "                           simulate=\"poisson\", lh = mh.cell_side_length, t=\"hexagon\")\n",
      "# si.quadrats_simulate?"
     ],
     "language": "python",
     "metadata": {},
     "outputs": []
    },
    {
     "cell_type": "markdown",
     "metadata": {},
     "source": [
      "##simulated testing 2\n",
      "* random points patterns apply with uniform csr\n",
      "* grid structure: rectangular\n",
      "* Number of simulated point patterns: 999"
     ]
    },
    {
     "cell_type": "code",
     "collapsed": false,
     "input": [
      "si.quadrats_simulate(list_points_1,simulate=\"uniform\",t=\"rectangular\",nsim = 999)"
     ],
     "language": "python",
     "metadata": {},
     "outputs": []
    },
    {
     "cell_type": "code",
     "collapsed": false,
     "input": [
      "# 0.009 degree = 1km\n",
      "mr = qd.Manager_rectangle(list_points_2, rectangle_width = 0.09, rectangle_height= 0.09)\n",
      "print mr.count_column, mr.count_row\n",
      "print mr.mbr.x_min, mr.mbr.x_max, mr.mbr.y_min, mr.mbr.y_max\n",
      "si.quadrats_simulate(list_points_2, x_bound=[mr.mbr.x_min, mr.mbr.x_max], y_bound=[mr.mbr.y_min, mr.mbr.y_max],\n",
      "                     simulate=\"uniform\",t=\"rectangular\", nx = mr.count_column, ny = mr.count_row)"
     ],
     "language": "python",
     "metadata": {},
     "outputs": []
    },
    {
     "cell_type": "code",
     "collapsed": false,
     "input": [],
     "language": "python",
     "metadata": {},
     "outputs": []
    }
   ],
   "metadata": {}
  }
 ]
}